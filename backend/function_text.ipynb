{
 "cells": [
  {
   "cell_type": "code",
   "execution_count": 24,
   "metadata": {},
   "outputs": [],
   "source": [
    "import cv2\n",
    "import pytesseract\n",
    "pytesseract.pytesseract.tesseract_cmd = 'C://Program Files//Tesseract-OCR//tesseract.exe'"
   ]
  },
  {
   "cell_type": "code",
   "execution_count": 25,
   "metadata": {},
   "outputs": [],
   "source": [
    "def text_process(texts):\n",
    "    for i in range(0, len(texts)):\n",
    "        texts[i] = texts[i].replace(\"\\n\", \"\")\n",
    "        texts[i] = texts[i].replace(\"(\", \"\")\n",
    "        texts[i] = texts[i].replace(\".\", \"\")\n",
    "        texts[i] = texts[i].strip()\n",
    "    return texts"
   ]
  },
  {
   "cell_type": "code",
   "execution_count": 26,
   "metadata": {},
   "outputs": [],
   "source": [
    "def text(contours, im2):\n",
    "    texts = []\n",
    "    for cnt in contours:\n",
    "        x, y, w, h = cv2.boundingRect(cnt)\n",
    "        \n",
    "        # Drawing a rectangle on copied image\n",
    "        rect = cv2.rectangle(im2, (x, y), (x + w, y + h), (0, 255, 0), 2)\n",
    "        \n",
    "        # Cropping the text block for giving input to OCR\n",
    "        cropped = im2[y:y + h, x:x + w]\n",
    "        \n",
    "        # Open the file in append mode\n",
    "        # file = open(\"recognized.txt\", \"a\")\n",
    "        \n",
    "        # Apply OCR on the cropped image\n",
    "        texts.append(pytesseract.image_to_string(cropped))\n",
    "\n",
    "    result_text = text_process(texts)\n",
    "    return result_text\n"
   ]
  },
  {
   "cell_type": "code",
   "execution_count": 27,
   "metadata": {},
   "outputs": [],
   "source": [
    "def text_extract(file_path):\n",
    "    img = cv2.imread(file_path)\n",
    "    gray = cv2.cvtColor(img, cv2.COLOR_BGR2GRAY)\n",
    "    ret, thresh1 = cv2.threshold(gray, 0, 255, cv2.THRESH_OTSU | cv2.THRESH_BINARY_INV)\n",
    "    rect_kernel = cv2.getStructuringElement(cv2.MORPH_RECT, (18, 18))\n",
    "    dilation = cv2.dilate(thresh1, rect_kernel, iterations = 1)\n",
    "\n",
    "    # Finding contours\n",
    "    contours, hierarchy = cv2.findContours(dilation, cv2.RETR_EXTERNAL, cv2.CHAIN_APPROX_NONE)\n",
    "    im2 = img.copy()\n",
    "    output_words = text(contours, im2)\n",
    "    return output_words\n",
    "    "
   ]
  },
  {
   "cell_type": "code",
   "execution_count": 28,
   "metadata": {},
   "outputs": [],
   "source": [
    "# print(text_extract(\"uploads//mongo.jpeg\"))"
   ]
  },
  {
   "cell_type": "code",
   "execution_count": null,
   "metadata": {},
   "outputs": [],
   "source": []
  }
 ],
 "metadata": {
  "kernelspec": {
   "display_name": "env",
   "language": "python",
   "name": "python3"
  },
  "language_info": {
   "codemirror_mode": {
    "name": "ipython",
    "version": 3
   },
   "file_extension": ".py",
   "mimetype": "text/x-python",
   "name": "python",
   "nbconvert_exporter": "python",
   "pygments_lexer": "ipython3",
   "version": "3.12.4"
  }
 },
 "nbformat": 4,
 "nbformat_minor": 2
}
